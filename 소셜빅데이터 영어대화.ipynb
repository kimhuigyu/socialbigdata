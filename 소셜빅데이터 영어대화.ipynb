{
 "cells": [
  {
   "cell_type": "code",
   "execution_count": 20,
   "metadata": {},
   "outputs": [
    {
     "name": "stdout",
     "output_type": "stream",
     "text": [
      "자바 기초 프로그래밍 강좌를 완강했습니다.\n",
      "컴잘알에 오신 것을 환영합니다.\n"
     ]
    }
   ],
   "source": [
    "import requests\n",
    "from bs4 import BeautifulSoup\n",
    "\n",
    "\n",
    "request = requests.get(\"http://www.dowellcomputer.com/main.jsp\")\n",
    "\n",
    "\n",
    "html = request.text\n",
    "\n",
    "\n",
    "soup = BeautifulSoup(html, 'html.parser')\n",
    "\n",
    "\n",
    "links = soup.select('td > a')\n",
    "\n",
    "\n",
    "for link in links:\n",
    "    \n",
    "    if link.has_attr('href'):\n",
    "        \n",
    "        if link.get('href').find('notice') != -1:\n",
    "            print(link.text)"
   ]
  },
  {
   "cell_type": "code",
   "execution_count": 6,
   "metadata": {},
   "outputs": [
    {
     "name": "stdout",
     "output_type": "stream",
     "text": [
      "총 75 개의 주제를 찾았습니다\n",
      "['Family', 'Restaurant', 'Books', 'Travel', 'Website', 'Accident', 'Childhood memory', 'Favorite rooms', 'Presents', 'Historical place', 'Newspaper/ Magazine', 'A memorable event', 'A favorite subject', 'A museum', 'A favorite movie', 'A foreign country', 'Parties', 'A teacher', 'A friend', 'A hotel', 'A letter', 'Hobbies', 'Music', 'Shopping', 'Holiday', 'Animals', 'A practical skill', 'Sport', 'A School', 'Festival', 'Food', 'Household appliance', 'A music band', 'Weather', 'Neighbor', 'Natural scenery', 'Outdoor activities', 'Law', 'Pollution', 'Traffic jam', 'TV program', 'Architect/ Building', 'Electronic Media', 'Job/ Career', 'Competition/ contest', 'A garden', 'Hometown', 'Clothing', 'Advertisement', 'A project', 'A wedding', 'A Coffee shop', 'Culture', 'Transport', 'Politician', 'Communication', 'Business', 'Computer', 'Exercise', 'Goal/ ambition', 'Art', 'Fashion', 'Jewelry', 'Cosmetic', 'Indoor Game', 'Phone conversation', 'Learning A Second language', 'A\\xa0Creative Person', 'A celebrity', 'A Health Problem', 'Technological advancements', 'A Landmark', 'Handcraft Items', 'Plastic Surgery', 'Success']\n"
     ]
    }
   ],
   "source": [
    "import requests\n",
    "from bs4 import BeautifulSoup\n",
    "\n",
    "\n",
    "class Conversation:\n",
    "   \n",
    "    def __init__(self, question, answer):\n",
    "        self.question = question\n",
    "        self.answer = answer\n",
    "        \n",
    "    def __str__(self):\n",
    "        return \"질문: \" + self.question + '\\n답변: ' + self.answer + '\\n'\n",
    "        \n",
    "\n",
    "def get_subjects():\n",
    "    subjects = []\n",
    "    \n",
    "   \n",
    "    request = requests.get('https://basicenglishspeaking.com/daily-english-conversation-topics/')\n",
    "    html = request.text\n",
    "    soup = BeautifulSoup(html, 'html.parser')\n",
    "    \n",
    "    divs = soup.find_all('div', {'class': 'thrv_wrapper thrv-columns'})\n",
    "    for div in divs:\n",
    "        \n",
    "        links = div.find_all('a')\n",
    "        \n",
    "        \n",
    "        for link in links:\n",
    "            subject = link.text\n",
    "            subjects.append(subject)\n",
    "            \n",
    "    return subjects\n",
    "\n",
    "subjects = get_subjects()\n",
    "print('총', len(subjects), '개의 주제를 찾았습니다')\n",
    "print(subjects)"
   ]
  },
  {
   "cell_type": "code",
   "execution_count": 7,
   "metadata": {},
   "outputs": [
    {
     "name": "stdout",
     "output_type": "stream",
     "text": [
      "( 1 / 75 ) Family\n",
      "총 10 개의 대화를 찾았습니다.\n",
      "질문: How many people are there in your family?\n",
      "답변: There are 5 people in my family: my father, mother, brother, sister, and me.\n",
      "\n",
      "질문: Does your family live in a house or an apartment?\n",
      "답변: We live in a house in the countryside.\n",
      "\n",
      "질문: What does your father do?\n",
      "답변: My father is a doctor. He works at the local hospital.\n",
      "\n",
      "질문: How old is your mother?\n",
      "답변: She is 40 years old, 1 year younger than my father.\n",
      "\n",
      "질문: Do you have any siblings? What’s his/her name?\n",
      "답변: Yes, I do. I have 1 elder brother, David, and 1 younger sister, Mary.\n",
      "\n",
      "질문: Are you the oldest amongst your brothers and sisters?\n",
      "답변: No, I’m not. I’m the second child in my family.\n",
      "\n",
      "질문: What does your mother/father like?\n",
      "답변: My father likes playing football and my mother likes cooking.\n",
      "\n",
      "질문: Do your parents let you stay out late?\n",
      "답변: Of course not. They always ask me to get home before 10 pm each night.\n",
      "\n",
      "질문: Do you stay with your parents?\n",
      "답변: Right now, no, but I used to.\n",
      "\n",
      "질문: Does your family usually have dinner together?\n",
      "답변: Yes, we do. My mom always prepares delicious meals for us.\n",
      "\n"
     ]
    }
   ],
   "source": [
    "conversations = []\n",
    "i = 1\n",
    "\n",
    "\n",
    "for sub in subjects:\n",
    "    print('(', i, '/', len(subjects), ')', sub)\n",
    "    \n",
    "    request = requests.get('https://basicenglishspeaking.com/' + sub)\n",
    "    html = request.text\n",
    "    soup = BeautifulSoup(html, 'html.parser')\n",
    "    \n",
    "    qnas = soup.find_all('div', {'class': 'sc_player_container1'})\n",
    "    \n",
    "    \n",
    "    for qna in qnas:\n",
    "        if qnas.index(qna) % 2 == 0:\n",
    "            q = qna.next_sibling\n",
    "        else:\n",
    "            a = qna.next_sibling\n",
    "            c = Conversation(q, a)\n",
    "            conversations.append(c)\n",
    "    i = i + 1\n",
    "    \n",
    "    \n",
    "    if i == 2:\n",
    "        break\n",
    "\n",
    "print('총', len(conversations), '개의 대화를 찾았습니다.')\n",
    "\n",
    "for c in conversations:\n",
    "    print(str(c))"
   ]
  },
  {
   "cell_type": "code",
   "execution_count": 13,
   "metadata": {},
   "outputs": [
    {
     "name": "stdout",
     "output_type": "stream",
     "text": [
      "<script>\n",
      "alert('탈퇴한 회원입니다.');\n",
      "location.href='./memberLoginForm.jsp';\n",
      "</script>\n",
      "\n"
     ]
    }
   ],
   "source": [
    "import requests\n",
    "from bs4 import BeautifulSoup as bs\n",
    "\n",
    "MEMBER_DATA = {\n",
    "    'memberID': 'a',\n",
    "    'memberPassword': 'a'\n",
    "}\n",
    "\n",
    "\n",
    "with requests.Session() as s:\n",
    "    \n",
    "    request = s.post('http://dowellcomputer.com/member/memberLoginAction.jsp', data=MEMBER_DATA)\n",
    "    \n",
    "print(request.text)"
   ]
  },
  {
   "cell_type": "code",
   "execution_count": 12,
   "metadata": {},
   "outputs": [],
   "source": [
    "reuqest = s.get('http://dowellcomputer.com/member/memberUpdateForm.jsp?ID=a')\n",
    "if (request.text.find('탈퇴') == -1):\n",
    "    soup = bs(request.text, 'html.parser')\n",
    "\n",
    "    result = soup.find_all('input', {\"name\": \"memberEmail\"})\n",
    "\n",
    "    print(result[0].get('value'))"
   ]
  },
  {
   "cell_type": "code",
   "execution_count": null,
   "metadata": {},
   "outputs": [],
   "source": []
  }
 ],
 "metadata": {
  "kernelspec": {
   "display_name": "Python 3",
   "language": "python",
   "name": "python3"
  },
  "language_info": {
   "codemirror_mode": {
    "name": "ipython",
    "version": 3
   },
   "file_extension": ".py",
   "mimetype": "text/x-python",
   "name": "python",
   "nbconvert_exporter": "python",
   "pygments_lexer": "ipython3",
   "version": "3.8.3"
  }
 },
 "nbformat": 4,
 "nbformat_minor": 4
}
